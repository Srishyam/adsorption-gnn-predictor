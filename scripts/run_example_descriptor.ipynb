{
 "cells": [
  {
   "cell_type": "markdown",
   "metadata": {},
   "source": [
    "## Install prerequisite libraries"
   ]
  },
  {
   "cell_type": "code",
   "execution_count": null,
   "metadata": {},
   "outputs": [],
   "source": [
    "# !pip install pymatgen\n",
    "# !pip install ase\n",
    "# !pip install mp_api"
   ]
  },
  {
   "cell_type": "markdown",
   "metadata": {},
   "source": [
    "# Run examples"
   ]
  },
  {
   "cell_type": "code",
   "execution_count": 1,
   "metadata": {},
   "outputs": [],
   "source": [
    "from pymatgen.analysis.local_env import MinimumDistanceNN\n",
    "def get_act_site_index(struct, ads_idx):\n",
    "    '''\n",
    "    Inputs: pymatgen structure, adsorbate index\n",
    "    Output: active site index\n",
    "    '''\n",
    "    cutoff_dist = 4.\n",
    "    mnn = MinimumDistanceNN(cutoff=cutoff_dist, get_all_sites=True)\n",
    "    nn_list = mnn.get_nn_info(struct,ads_idx)\n",
    "    act_site_idx = 0\n",
    "    act_site_dist = 10\n",
    "    for nn in nn_list:\n",
    "        if nn['site'].specie != Element('H'):\n",
    "            if nn['weight'] < act_site_dist:\n",
    "                act_site_dist = nn['weight']\n",
    "                act_site_idx = nn['site_index']\n",
    "    return act_site_idx"
   ]
  },
  {
   "cell_type": "code",
   "execution_count": null,
   "metadata": {},
   "outputs": [],
   "source": [
    "from pymatgen.core.structure import Structure\n",
    "import pickle\n",
    "import numpy as np\n",
    "import pandas\n",
    "import copy\n",
    "from classical_descriptors import *\n",
    "from moments_descriptors import *\n",
    "from mp_api.client import MPRester\n",
    "define_global_variables_moments()\n",
    "define_global_variables_classical(4.5)\n",
    "\n",
    "# Load the data file\n",
    "with open('./example_data.pkl','rb') as pf:\n",
    "    ds_full = pickle.load(pf)   # Dataset is loaded here\n",
    "\n",
    "# Initialize list for storing the calculated descriptors\n",
    "new_list = list()\n",
    "for d in ds_full:\n",
    "    # Obtain the CIF for the bulk structure from Materials Project\n",
    "    # Comment out this code if you have CIF structure already in the dataset:\n",
    "    # Your API key here\n",
    "    mp_api_key = '7CIuGl1xbKasdaqBiimUYc8EaqvEbmJe'\n",
    "    with MPRester(mp_api_key) as mpr:\n",
    "        docs = mpr.materials.search(\n",
    "            material_ids=[mat_id], fields=['initial_structures'])\n",
    "    d['cif_struct'] = docs[0].initial_structures[0]\n",
    "    # bulk_V = get_bulk_V(docs[0].initial_structures[0])\n",
    "    # new_dict['CN_bar_sd']  = mu2_value/(bulk_V)\n",
    "\n",
    "    # Make pymatgen Structure object for further calculations\n",
    "    atom_list_init = d['init_struct']['atoms']['atoms']\n",
    "    atom_list_fin = d['final_struct']['atoms']\n",
    "    # Lists of species and coordinates are initialized here\n",
    "    specie_list = list()\n",
    "    coords_list_init = list()\n",
    "    coords_list_fin = list()\n",
    "    # Slab lattice is stored here\n",
    "    lattice = d['init_struct']['atoms']['cell']\n",
    "    for at_init, at_fin in zip(atom_list_init, atom_list_fin):\n",
    "        specie_list.append(Element(at_init['symbol']))\n",
    "        coords_list_init.append(at_init['position'])\n",
    "        coords_list_fin.append(at_fin['position'])\n",
    "    # Obtain the pymatgen structure\n",
    "    py_struct_init = Structure(lattice, specie_list, coords_list_init, coords_are_cartesian=True)\n",
    "    py_struct_fin = Structure(lattice, specie_list, coords_list_fin, coords_are_cartesian=True)\n",
    "\n",
    "    # active_site_index = get_site_index_from_coords(py_struct_init, get_act_site_coords(py_struct_init, d['adsorbate']))\n",
    "    # For GAS dataset, 0 is the adsorbate index\n",
    "    active_site_index = get_act_site_index(py_struct_init,0)\n",
    "    active_site_coords = atom_list_init[active_site_index]['position']\n",
    "    active_site_coords_fin = atom_list_fin[active_site_index]['position']\n",
    "    \n",
    "    new_dict = dict()\n",
    "    new_dict = copy.deepcopy(d)\n",
    "    new_dict['psi'] = get_psi(py_struct_init, active_site_coords)\n",
    "    mu2_value = get_mu2_sum(py_struct_fin, active_site_coords_fin)\n",
    "\n",
    "    cif_struct = d['cif_struct']\n",
    "    bulk_V = get_bulk_V(d['cif_struct'])\n",
    "    new_dict['CN_bar_sd']  = mu2_value/(bulk_V)\n",
    "    \n",
    "    new_dict['CN_max'] = get_CN_max(cif_struct)\n",
    "    new_dict['CN'] = get_CN(py_struct_init, active_site_coords)\n",
    "    new_dict['CN_bar'] = get_CN_bar(py_struct_init, active_site_coords, new_dict['CN_max'])\n",
    "    new_list.append(new_dict)\n",
    "df = pandas.DataFrame(new_list)"
   ]
  },
  {
   "cell_type": "markdown",
   "metadata": {},
   "source": [
    "## Plot energy values based on columns"
   ]
  },
  {
   "cell_type": "code",
   "execution_count": 25,
   "metadata": {},
   "outputs": [
    {
     "data": {
      "image/png": "[encoded data removed]",
      "text/plain": [
       "<Figure size 640x480 with 1 Axes>"
      ]
     },
     "metadata": {},
     "output_type": "display_data"
    }
   ],
   "source": [
    "from matplotlib import pyplot as plt\n",
    "import numpy as np\n",
    "import scipy.stats as stats\n",
    "\n",
    "# Column name\n",
    "descriptor = 'psi'      # Change based on requirement\n",
    "energy_column = 'delta_g_oh'\n",
    "# Use a scatter plot\n",
    "ax = df.plot.scatter(x=descriptor,y=energy_column)\n",
    "\n",
    "# Get the best-fit line\n",
    "coeffs = np.polyfit(df[descriptor],df[energy_column],1)\n",
    "p = np.poly1d(coeffs)\n",
    "x_line = np.linspace(df[descriptor].min(), df[descriptor].max(), 100)\n",
    "ax.plot(x_line, p(x_line), color='red')\n",
    "# Get R^2 values\n",
    "slope, intercept, r_value, p_value, std_err = stats.linregress(df[descriptor], df[energy_column])\n",
    "r_squared = r_value**2\n",
    "ax.annotate(f\"R^2: {r_squared:.2f}\", xy=(0.05, 0.9), xycoords='axes fraction')\n",
    "\n",
    "# Add labels to the plot\n",
    "plt.xlabel(descriptor)\n",
    "plt.ylabel(energy_column)\n",
    "plt.show()"
   ]
  }
 ],
 "metadata": {
  "kernelspec": {
   "display_name": "Python 3",
   "language": "python",
   "name": "python3"
  },
  "language_info": {
   "codemirror_mode": {
    "name": "ipython",
    "version": 3
   },
   "file_extension": ".py",
   "mimetype": "text/x-python",
   "name": "python",
   "nbconvert_exporter": "python",
   "pygments_lexer": "ipython3",
   "version": "3.11.11"
  }
 },
 "nbformat": 4,
 "nbformat_minor": 2
}
